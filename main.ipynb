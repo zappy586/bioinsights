{
 "cells": [
  {
   "cell_type": "code",
   "execution_count": 1,
   "id": "99843b58-b2e8-4875-8819-31ff28c17242",
   "metadata": {},
   "outputs": [
    {
     "name": "stderr",
     "output_type": "stream",
     "text": [
      "G:\\BioInsights\\bio-insights\\Lib\\site-packages\\tqdm\\auto.py:21: TqdmWarning: IProgress not found. Please update jupyter and ipywidgets. See https://ipywidgets.readthedocs.io/en/stable/user_install.html\n",
      "  from .autonotebook import tqdm as notebook_tqdm\n"
     ]
    }
   ],
   "source": [
    "from langchain.embeddings import HuggingFaceEmbeddings\n",
    "embeddings = HuggingFaceEmbeddings()"
   ]
  },
  {
   "cell_type": "code",
   "execution_count": 2,
   "id": "651dc240-e62b-4faf-819c-4945cd2d96f2",
   "metadata": {},
   "outputs": [
    {
     "name": "stdout",
     "output_type": "stream",
     "text": [
      "\"Question\":\"What conditions are diabetics at risk for?\",\"Answer\":\"Type 2 diabetes is a common and serious disease in the United States and worldwide. Individuals with diabetes also have a greater likelihood of abnormal cholesterol, high blood pressure, and obesity.\"\n"
     ]
    }
   ],
   "source": [
    "from langchain.vectorstores import Chroma\n",
    "\n",
    "db3 = Chroma(persist_directory=\"./chroma_db\", embedding_function=embeddings)\n",
    "docs = db3.similarity_search(\"diabeties\")\n",
    "print(docs[0].page_content)"
   ]
  },
  {
   "cell_type": "code",
   "execution_count": 3,
   "id": "dad81b8b-0037-482a-9b49-854ce7d14757",
   "metadata": {},
   "outputs": [],
   "source": [
    "from langchain.callbacks.manager import CallbackManager\n",
    "from langchain.callbacks.streaming_stdout import StreamingStdOutCallbackHandler\n",
    "from langchain.chains import LLMChain\n",
    "from langchain.llms import LlamaCpp\n",
    "from langchain.prompts import PromptTemplate"
   ]
  },
  {
   "cell_type": "code",
   "execution_count": 4,
   "id": "92bfd39b-81b4-4bb5-ac52-3ba42fda79d3",
   "metadata": {},
   "outputs": [],
   "source": [
    "callback_manager = CallbackManager([StreamingStdOutCallbackHandler()])"
   ]
  },
  {
   "cell_type": "code",
   "execution_count": 5,
   "id": "104edee9-33ac-405e-889c-cc90dc11987d",
   "metadata": {},
   "outputs": [],
   "source": [
    "template = \"\"\"Question: {question}\n",
    "\n",
    "Answer: Let's work this out in a step by step way to be sure we have the right answer.\"\"\"\n",
    "\n",
    "prompt = PromptTemplate(template=template, input_variables=[\"question\"])"
   ]
  },
  {
   "cell_type": "code",
   "execution_count": 22,
   "id": "785f4afe-6cb4-4858-855c-401bcdf0f5d5",
   "metadata": {},
   "outputs": [
    {
     "name": "stderr",
     "output_type": "stream",
     "text": [
      "AVX = 1 | AVX2 = 1 | AVX512 = 0 | AVX512_VBMI = 0 | AVX512_VNNI = 0 | FMA = 1 | NEON = 0 | ARM_FMA = 0 | F16C = 1 | FP16_VA = 0 | WASM_SIMD = 0 | BLAS = 0 | SSE3 = 1 | SSSE3 = 0 | VSX = 0 | \n"
     ]
    }
   ],
   "source": [
    "llm = LlamaCpp(\n",
    "    model_path=\"openhermes-2.5-mistral-7b-16k.Q4_K_M.gguf\",\n",
    "    temperature=0.70,\n",
    "    max_tokens=2000,\n",
    "    top_p=1,\n",
    "    n_ctx=16000,\n",
    "    callback_manager=callback_manager,\n",
    "    verbose=True,  # Verbose is required to pass to the callback manager\n",
    ")"
   ]
  },
  {
   "cell_type": "code",
   "execution_count": 34,
   "id": "dd56d043-ac75-4f5f-af0c-c291ffa6b4ee",
   "metadata": {},
   "outputs": [
    {
     "name": "stdout",
     "output_type": "stream",
     "text": [
      "[(Document(page_content='\"Question\":\"What is the most common cause of a sore throat?\",\"Answer\":\"The most common reason you get a sore throat is because of a cold or flu. It may be just one of several side problems you get. Cold symptoms tend to develop slowly, but a flu tends to hit you quickly. If you are coughing, your voice is hoarse, or you have a runny nose, a cold is the most likely culprit. The common cold is less harmful than a flu, which attacks your nose, throat, and lungs. And you may get more intense symptoms, including fever, body aches, and headaches.\"'), 0.585037350654602), (Document(page_content='\"Question\":\"What is the most common cause of a sore throat?\",\"Answer\":\"The most common reason you get a sore throat is because of a cold or flu. It may be just one of several side problems you get. Cold symptoms tend to develop slowly, but a flu tends to hit you quickly. If you are coughing, your voice is hoarse, or you have a runny nose, a cold is the most likely culprit. The common cold is less harmful than a flu, which attacks your nose, throat, and lungs. And you may get more intense symptoms, including fever, body aches, and headaches.\"'), 0.585037350654602), (Document(page_content='\"Question\":\"What does a sore throat mean?\",\"Answer\":\"The raw, scratchy, burning feeling at the back of your throat is often the first warning sign that you have a cold, or that the flu is on the way. But it can also be the first symptom of more serious conditions, so you should watch how it develops. Call your doctor if your sore throat feels worse or lasts longer than the run-of-the-mill type.\"'), 0.6212376356124878), (Document(page_content='\"Question\":\"What does a sore throat mean?\",\"Answer\":\"The raw, scratchy, burning feeling at the back of your throat is often the first warning sign that you have a cold, or that the flu is on the way. But it can also be the first symptom of more serious conditions, so you should watch how it develops. Call your doctor if your sore throat feels worse or lasts longer than the run-of-the-mill type.\"'), 0.6212376356124878)]\n"
     ]
    }
   ],
   "source": [
    "query = \"\"\"\n",
    "sore throat\n",
    "\"\"\"\n",
    "docs = db3.similarity_search(query)\n",
    "docs_score = db3.similarity_search_with_score(query)\n",
    "query_res = [doc for doc in docs_score]\n",
    "print(query_res)"
   ]
  },
  {
   "cell_type": "code",
   "execution_count": 23,
   "id": "594a76b9-de9a-433f-80ff-a757e0d933a6",
   "metadata": {},
   "outputs": [
    {
     "name": "stdout",
     "output_type": "stream",
     "text": [
      "Hello! I'm Bioinsight, here to help you with your health concerns. Your sore throat has been persisting for weeks now, which could be due to various reasons. Some possible causes include viral infections like the common cold or flu, bacterial infections such as strep throat, allergies, acid reflux, postnasal drip, and even some more serious conditions like mononucleosis or oral cancer. It's essential to consult a healthcare professional for an accurate diagnosis and appropriate treatment.\n",
      "\n",
      "However, there are several home remedies that might help alleviate your symptoms in the meantime:\n",
      "1. Stay hydrated by drinking plenty of water, warm liquids like tea with honey, or coconut water. Avoid caffeine and alcohol as they can dehydrate you further.\n",
      "2. Gargle with a mixture of warm water and salt to help soothe your throat and reduce inflammation. You can also try gargling with apple cider vinegar diluted in water for potential antibacterial benefits.\n",
      "3. Use over-the-counter pain relievers like acetaminophen or ibuprofen, but always follow the instructions on the package and consult your doctor if you have any concerns.\n",
      "4. Try lozenges or throat sprays specifically designed to soothe a sore throat.\n",
      "5. Inhale steam by taking a hot shower or using a humidifier in your room, which can help relieve congestion and soothe the throat.\n",
      "6. Eat soft, cool, or lukewarm foods that don't require much chewing, such as soups, smoothies, yogurt, or mashed potatoes. Avoid spicy, acidic, or irritating foods until your throat feels better.\n",
      "7. Get plenty of rest to help your body fight off the infection and speed up the healing process.\n",
      "Remember that these remedies are not meant to replace professional medical advice. If your symptoms persist or worsen after a week or two, or if they are accompanied by fever, difficulty swallowing, or severe pain, it's crucial to consult a healthcare provider for further evaluation."
     ]
    },
    {
     "data": {
      "text/plain": [
       "\"Hello! I'm Bioinsight, here to help you with your health concerns. Your sore throat has been persisting for weeks now, which could be due to various reasons. Some possible causes include viral infections like the common cold or flu, bacterial infections such as strep throat, allergies, acid reflux, postnasal drip, and even some more serious conditions like mononucleosis or oral cancer. It's essential to consult a healthcare professional for an accurate diagnosis and appropriate treatment.\\n\\nHowever, there are several home remedies that might help alleviate your symptoms in the meantime:\\n1. Stay hydrated by drinking plenty of water, warm liquids like tea with honey, or coconut water. Avoid caffeine and alcohol as they can dehydrate you further.\\n2. Gargle with a mixture of warm water and salt to help soothe your throat and reduce inflammation. You can also try gargling with apple cider vinegar diluted in water for potential antibacterial benefits.\\n3. Use over-the-counter pain relievers like acetaminophen or ibuprofen, but always follow the instructions on the package and consult your doctor if you have any concerns.\\n4. Try lozenges or throat sprays specifically designed to soothe a sore throat.\\n5. Inhale steam by taking a hot shower or using a humidifier in your room, which can help relieve congestion and soothe the throat.\\n6. Eat soft, cool, or lukewarm foods that don't require much chewing, such as soups, smoothies, yogurt, or mashed potatoes. Avoid spicy, acidic, or irritating foods until your throat feels better.\\n7. Get plenty of rest to help your body fight off the infection and speed up the healing process.\\nRemember that these remedies are not meant to replace professional medical advice. If your symptoms persist or worsen after a week or two, or if they are accompanied by fever, difficulty swallowing, or severe pain, it's crucial to consult a healthcare provider for further evaluation.\""
      ]
     },
     "execution_count": 23,
     "metadata": {},
     "output_type": "execute_result"
    }
   ],
   "source": [
    "prompt = f\"\"\"Context:You are Bioinsight, a friendly AI medical advisor and health assistant that answers the user's health related queries\n",
    "in a direct and straightforward way using the DB_examples that has some previous example question and answer pairs to help you respond to the user.\n",
    "Give a very long and detailed answers to the question posed. Also make sure to greet the users in a friendly manner.\n",
    "User_query:{query}\n",
    "DB_examples:\n",
    "{query_res}\n",
    "Assistant:\n",
    "\"\"\"\n",
    "llm(prompt)"
   ]
  },
  {
   "cell_type": "code",
   "execution_count": 2,
   "id": "5a4e7096-17e6-46d9-88ac-9cfed98c25b0",
   "metadata": {},
   "outputs": [],
   "source": [
    "import json\n",
    "import csv\n",
    "\n",
    "def jsonl_to_csv(jsonl_file, csv_file):\n",
    "    with open(jsonl_file, 'r', encoding='utf-8') as json_file, open(csv_file, 'w', newline='', encoding='utf-8') as csv_file:\n",
    "        csv_writer = csv.writer(csv_file)\n",
    "        csv_writer.writerow(['Question', 'Answer'])  # Write header\n",
    "\n",
    "        for line in json_file:\n",
    "            data = json.loads(line)\n",
    "            csv_writer.writerow([data['Question'], data['Answer']])\n",
    "\n",
    "# Replace 'input.jsonl' and 'output.csv' with your file names\n",
    "jsonl_to_csv('merged.jsonl', 'output.csv')\n"
   ]
  },
  {
   "cell_type": "code",
   "execution_count": 7,
   "id": "ca27e93c-08cb-4f02-b634-7aa9afea653e",
   "metadata": {},
   "outputs": [
    {
     "name": "stdout",
     "output_type": "stream",
     "text": [
      "                                         id  \\\n",
      "0      3c1f17c3-87e4-48e3-b0ca-19e4f5e9968c   \n",
      "1      475c4254-0dd9-4c14-88c2-6fda785c72dd   \n",
      "2      83975b32-644c-4676-bac2-8830acf941b4   \n",
      "3      e4eba55c-3acf-43cd-afa7-002a1c155535   \n",
      "4      f69e8f5d-5b09-4081-953e-730abacf98e8   \n",
      "...                                     ...   \n",
      "60092  5f277cf7-594b-4a0a-974d-71a31bc3d6f1   \n",
      "60093  5548cd33-dc6e-45c9-a4fa-e5868cb074bc   \n",
      "60094  4921edd7-c24e-49cf-b2ae-e9a092c4f569   \n",
      "60095  f02dc337-6a8b-401c-abc2-618b5bc05f6f   \n",
      "60096  10b2b223-103f-4c63-9b50-70ba545fb92d   \n",
      "\n",
      "                                                    text  \\\n",
      "0      What are the symptoms of gastritis? However, t...   \n",
      "1      What does the treatment for gastritis involve?...   \n",
      "2      How does an upper endoscopy help diagnose gast...   \n",
      "3      How is a fecal occult blood test (stool test) ...   \n",
      "4      What is gastritis? !s_sensitive, chron ID: $('...   \n",
      "...                                                  ...   \n",
      "60092  How is stroke diagnosed? At the hospital, your...   \n",
      "60093  How can angiograms of your head and neck help ...   \n",
      "60094  How can echocardiogram help diagnose a stroke?...   \n",
      "60095  What are the advantages of lasers over drills ...   \n",
      "60096  How do lasers work in dentistry? A peroxide bl...   \n",
      "\n",
      "                        metadata  \n",
      "0      {\"source\": \"merged.json\"}  \n",
      "1      {\"source\": \"merged.json\"}  \n",
      "2      {\"source\": \"merged.json\"}  \n",
      "3      {\"source\": \"merged.json\"}  \n",
      "4      {\"source\": \"merged.json\"}  \n",
      "...                          ...  \n",
      "60092  {\"source\": \"merged.json\"}  \n",
      "60093  {\"source\": \"merged.json\"}  \n",
      "60094  {\"source\": \"merged.json\"}  \n",
      "60095  {\"source\": \"merged.json\"}  \n",
      "60096  {\"source\": \"merged.json\"}  \n",
      "\n",
      "[60097 rows x 3 columns]\n"
     ]
    }
   ],
   "source": [
    "import pandas as pd\n",
    "df = pd.read_csv(\"output.csv\")\n",
    "print(df)"
   ]
  },
  {
   "cell_type": "code",
   "execution_count": 5,
   "id": "0ac7b6c6-39bd-4eda-982f-322e1d72736c",
   "metadata": {},
   "outputs": [],
   "source": [
    "import json\n",
    "import csv\n",
    "from uuid import uuid4  # for generating unique IDs\n",
    "\n",
    "def jsonl_to_csv(jsonl_file, csv_file):\n",
    "    with open(jsonl_file, 'r') as json_file, open(csv_file, 'w', newline='', encoding='utf-8') as csv_file:\n",
    "        csv_writer = csv.writer(csv_file)\n",
    "        csv_writer.writerow(['id', 'text', 'metadata'])  # Updated header\n",
    "\n",
    "        for line in json_file:\n",
    "            data = json.loads(line)\n",
    "            \n",
    "            # Generate a unique ID for each row\n",
    "            row_id = str(uuid4())\n",
    "\n",
    "            # Merge 'Question' and 'Answer' under a new 'text' column\n",
    "            text = f\"{data['Question']} {data['Answer']}\"\n",
    "\n",
    "            # Add a metadata column with the specified value\n",
    "            metadata = json.dumps({\"source\": \"merged.json\"})\n",
    "\n",
    "            # Write the row to the CSV file\n",
    "            csv_writer.writerow([row_id, text, metadata])\n",
    "\n",
    "\n",
    "# Replace 'input.jsonl' and 'output.csv' with your file names\n",
    "jsonl_to_csv('merged.jsonl', 'output.csv')\n"
   ]
  },
  {
   "cell_type": "code",
   "execution_count": 8,
   "id": "d823fc32-7d4f-4092-acf4-9b2f9ba96321",
   "metadata": {},
   "outputs": [],
   "source": [
    "import csv\n",
    "import json\n",
    "\n",
    "def csv_to_json(csv_file, json_file):\n",
    "    with open(csv_file, 'r', newline='', encoding='utf-8') as csv_file:\n",
    "        csv_reader = csv.DictReader(csv_file)\n",
    "        data = list(csv_reader)\n",
    "\n",
    "    with open(json_file, 'w', encoding='utf-8') as json_file:\n",
    "        json.dump(data, json_file, indent=2)\n",
    "\n",
    "# Replace 'input.csv' and 'output.json' with your file names\n",
    "csv_to_json('output.csv', 'final-merged.json')\n"
   ]
  }
 ],
 "metadata": {
  "kernelspec": {
   "display_name": "bio-insights",
   "language": "python",
   "name": "bio-insights"
  },
  "language_info": {
   "codemirror_mode": {
    "name": "ipython",
    "version": 3
   },
   "file_extension": ".py",
   "mimetype": "text/x-python",
   "name": "python",
   "nbconvert_exporter": "python",
   "pygments_lexer": "ipython3",
   "version": "3.11.5"
  }
 },
 "nbformat": 4,
 "nbformat_minor": 5
}
